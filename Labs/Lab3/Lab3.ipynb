{
 "cells": [
  {
   "cell_type": "markdown",
   "source": [
    "# Feature engineering - missing data"
   ],
   "metadata": {
    "collapsed": false
   }
  },
  {
   "cell_type": "markdown",
   "source": [
    "### Import potrzebnych bibliotek"
   ],
   "metadata": {
    "collapsed": false
   }
  },
  {
   "cell_type": "code",
   "execution_count": 87,
   "outputs": [],
   "source": [
    "import pandas as pd\n",
    "import numpy as np"
   ],
   "metadata": {
    "collapsed": false
   }
  },
  {
   "cell_type": "markdown",
   "source": [
    "### 1. Wczytaj zbiór danych Titanic (Lab2)"
   ],
   "metadata": {
    "collapsed": false
   }
  },
  {
   "cell_type": "code",
   "execution_count": 88,
   "outputs": [],
   "source": [
    "data = pd.read_csv('C:/Users/48692/Desktop/ML/Lab3/data.csv')"
   ],
   "metadata": {
    "collapsed": false
   }
  },
  {
   "cell_type": "markdown",
   "source": [
    "### 2. Dokonaj wstępnej inspekcji pierwszych 20 wierszy. Co widzisz?"
   ],
   "metadata": {
    "collapsed": false
   }
  },
  {
   "cell_type": "code",
   "execution_count": 89,
   "outputs": [
    {
     "data": {
      "text/plain": "    pclass  survived                                               name  \\\n0        1         1                      Allen, Miss. Elisabeth Walton   \n1        1         1                     Allison, Master. Hudson Trevor   \n2        1         0                       Allison, Miss. Helen Loraine   \n3        1         0               Allison, Mr. Hudson Joshua Creighton   \n4        1         0    Allison, Mrs. Hudson J C (Bessie Waldo Daniels)   \n5        1         1                                Anderson, Mr. Harry   \n6        1         1                  Andrews, Miss. Kornelia Theodosia   \n7        1         0                             Andrews, Mr. Thomas Jr   \n8        1         1      Appleton, Mrs. Edward Dale (Charlotte Lamson)   \n9        1         0                            Artagaveytia, Mr. Ramon   \n10       1         0                             Astor, Col. John Jacob   \n11       1         1  Astor, Mrs. John Jacob (Madeleine Talmadge Force)   \n12       1         1                      Aubart, Mme. Leontine Pauline   \n13       1         1                       Barber, Miss. Ellen 'Nellie'   \n14       1         1               Barkworth, Mr. Algernon Henry Wilson   \n15       1         0                                Baumann, Mr. John D   \n16       1         0                           Baxter, Mr. Quigg Edmond   \n17       1         1    Baxter, Mrs. James (Helene DeLaudeniere Chaput)   \n18       1         1                              Bazzani, Miss. Albina   \n19       1         0                               Beattie, Mr. Thomson   \n\n       sex     age  sibsp  parch    ticket      fare    cabin embarked boat  \\\n0   female      29      0      0     24160  211.3375       B5        S    2   \n1     male  0.9167      1      2    113781    151.55  C22 C26        S   11   \n2   female       2      1      2    113781    151.55  C22 C26        S    ?   \n3     male      30      1      2    113781    151.55  C22 C26        S    ?   \n4   female      25      1      2    113781    151.55  C22 C26        S    ?   \n5     male      48      0      0     19952     26.55      E12        S    3   \n6   female      63      1      0     13502   77.9583       D7        S   10   \n7     male      39      0      0    112050         0      A36        S    ?   \n8   female      53      2      0     11769   51.4792     C101        S    D   \n9     male      71      0      0  PC 17609   49.5042        ?        C    ?   \n10    male      47      1      0  PC 17757   227.525  C62 C64        C    ?   \n11  female      18      1      0  PC 17757   227.525  C62 C64        C    4   \n12  female      24      0      0  PC 17477      69.3      B35        C    9   \n13  female      26      0      0     19877     78.85        ?        S    6   \n14    male      80      0      0     27042        30      A23        S    B   \n15    male       ?      0      0  PC 17318    25.925        ?        S    ?   \n16    male      24      0      1  PC 17558  247.5208  B58 B60        C    ?   \n17  female      50      0      1  PC 17558  247.5208  B58 B60        C    6   \n18  female      32      0      0     11813   76.2917      D15        C    8   \n19    male      36      0      0     13050   75.2417       C6        C    A   \n\n   body                        home.dest  \n0     ?                     St Louis, MO  \n1     ?  Montreal, PQ / Chesterville, ON  \n2     ?  Montreal, PQ / Chesterville, ON  \n3   135  Montreal, PQ / Chesterville, ON  \n4     ?  Montreal, PQ / Chesterville, ON  \n5     ?                     New York, NY  \n6     ?                       Hudson, NY  \n7     ?                      Belfast, NI  \n8     ?              Bayside, Queens, NY  \n9    22              Montevideo, Uruguay  \n10  124                     New York, NY  \n11    ?                     New York, NY  \n12    ?                    Paris, France  \n13    ?                                ?  \n14    ?                    Hessle, Yorks  \n15    ?                     New York, NY  \n16    ?                     Montreal, PQ  \n17    ?                     Montreal, PQ  \n18    ?                                ?  \n19    ?                     Winnipeg, MN  ",
      "text/html": "<div>\n<style scoped>\n    .dataframe tbody tr th:only-of-type {\n        vertical-align: middle;\n    }\n\n    .dataframe tbody tr th {\n        vertical-align: top;\n    }\n\n    .dataframe thead th {\n        text-align: right;\n    }\n</style>\n<table border=\"1\" class=\"dataframe\">\n  <thead>\n    <tr style=\"text-align: right;\">\n      <th></th>\n      <th>pclass</th>\n      <th>survived</th>\n      <th>name</th>\n      <th>sex</th>\n      <th>age</th>\n      <th>sibsp</th>\n      <th>parch</th>\n      <th>ticket</th>\n      <th>fare</th>\n      <th>cabin</th>\n      <th>embarked</th>\n      <th>boat</th>\n      <th>body</th>\n      <th>home.dest</th>\n    </tr>\n  </thead>\n  <tbody>\n    <tr>\n      <th>0</th>\n      <td>1</td>\n      <td>1</td>\n      <td>Allen, Miss. Elisabeth Walton</td>\n      <td>female</td>\n      <td>29</td>\n      <td>0</td>\n      <td>0</td>\n      <td>24160</td>\n      <td>211.3375</td>\n      <td>B5</td>\n      <td>S</td>\n      <td>2</td>\n      <td>?</td>\n      <td>St Louis, MO</td>\n    </tr>\n    <tr>\n      <th>1</th>\n      <td>1</td>\n      <td>1</td>\n      <td>Allison, Master. Hudson Trevor</td>\n      <td>male</td>\n      <td>0.9167</td>\n      <td>1</td>\n      <td>2</td>\n      <td>113781</td>\n      <td>151.55</td>\n      <td>C22 C26</td>\n      <td>S</td>\n      <td>11</td>\n      <td>?</td>\n      <td>Montreal, PQ / Chesterville, ON</td>\n    </tr>\n    <tr>\n      <th>2</th>\n      <td>1</td>\n      <td>0</td>\n      <td>Allison, Miss. Helen Loraine</td>\n      <td>female</td>\n      <td>2</td>\n      <td>1</td>\n      <td>2</td>\n      <td>113781</td>\n      <td>151.55</td>\n      <td>C22 C26</td>\n      <td>S</td>\n      <td>?</td>\n      <td>?</td>\n      <td>Montreal, PQ / Chesterville, ON</td>\n    </tr>\n    <tr>\n      <th>3</th>\n      <td>1</td>\n      <td>0</td>\n      <td>Allison, Mr. Hudson Joshua Creighton</td>\n      <td>male</td>\n      <td>30</td>\n      <td>1</td>\n      <td>2</td>\n      <td>113781</td>\n      <td>151.55</td>\n      <td>C22 C26</td>\n      <td>S</td>\n      <td>?</td>\n      <td>135</td>\n      <td>Montreal, PQ / Chesterville, ON</td>\n    </tr>\n    <tr>\n      <th>4</th>\n      <td>1</td>\n      <td>0</td>\n      <td>Allison, Mrs. Hudson J C (Bessie Waldo Daniels)</td>\n      <td>female</td>\n      <td>25</td>\n      <td>1</td>\n      <td>2</td>\n      <td>113781</td>\n      <td>151.55</td>\n      <td>C22 C26</td>\n      <td>S</td>\n      <td>?</td>\n      <td>?</td>\n      <td>Montreal, PQ / Chesterville, ON</td>\n    </tr>\n    <tr>\n      <th>5</th>\n      <td>1</td>\n      <td>1</td>\n      <td>Anderson, Mr. Harry</td>\n      <td>male</td>\n      <td>48</td>\n      <td>0</td>\n      <td>0</td>\n      <td>19952</td>\n      <td>26.55</td>\n      <td>E12</td>\n      <td>S</td>\n      <td>3</td>\n      <td>?</td>\n      <td>New York, NY</td>\n    </tr>\n    <tr>\n      <th>6</th>\n      <td>1</td>\n      <td>1</td>\n      <td>Andrews, Miss. Kornelia Theodosia</td>\n      <td>female</td>\n      <td>63</td>\n      <td>1</td>\n      <td>0</td>\n      <td>13502</td>\n      <td>77.9583</td>\n      <td>D7</td>\n      <td>S</td>\n      <td>10</td>\n      <td>?</td>\n      <td>Hudson, NY</td>\n    </tr>\n    <tr>\n      <th>7</th>\n      <td>1</td>\n      <td>0</td>\n      <td>Andrews, Mr. Thomas Jr</td>\n      <td>male</td>\n      <td>39</td>\n      <td>0</td>\n      <td>0</td>\n      <td>112050</td>\n      <td>0</td>\n      <td>A36</td>\n      <td>S</td>\n      <td>?</td>\n      <td>?</td>\n      <td>Belfast, NI</td>\n    </tr>\n    <tr>\n      <th>8</th>\n      <td>1</td>\n      <td>1</td>\n      <td>Appleton, Mrs. Edward Dale (Charlotte Lamson)</td>\n      <td>female</td>\n      <td>53</td>\n      <td>2</td>\n      <td>0</td>\n      <td>11769</td>\n      <td>51.4792</td>\n      <td>C101</td>\n      <td>S</td>\n      <td>D</td>\n      <td>?</td>\n      <td>Bayside, Queens, NY</td>\n    </tr>\n    <tr>\n      <th>9</th>\n      <td>1</td>\n      <td>0</td>\n      <td>Artagaveytia, Mr. Ramon</td>\n      <td>male</td>\n      <td>71</td>\n      <td>0</td>\n      <td>0</td>\n      <td>PC 17609</td>\n      <td>49.5042</td>\n      <td>?</td>\n      <td>C</td>\n      <td>?</td>\n      <td>22</td>\n      <td>Montevideo, Uruguay</td>\n    </tr>\n    <tr>\n      <th>10</th>\n      <td>1</td>\n      <td>0</td>\n      <td>Astor, Col. John Jacob</td>\n      <td>male</td>\n      <td>47</td>\n      <td>1</td>\n      <td>0</td>\n      <td>PC 17757</td>\n      <td>227.525</td>\n      <td>C62 C64</td>\n      <td>C</td>\n      <td>?</td>\n      <td>124</td>\n      <td>New York, NY</td>\n    </tr>\n    <tr>\n      <th>11</th>\n      <td>1</td>\n      <td>1</td>\n      <td>Astor, Mrs. John Jacob (Madeleine Talmadge Force)</td>\n      <td>female</td>\n      <td>18</td>\n      <td>1</td>\n      <td>0</td>\n      <td>PC 17757</td>\n      <td>227.525</td>\n      <td>C62 C64</td>\n      <td>C</td>\n      <td>4</td>\n      <td>?</td>\n      <td>New York, NY</td>\n    </tr>\n    <tr>\n      <th>12</th>\n      <td>1</td>\n      <td>1</td>\n      <td>Aubart, Mme. Leontine Pauline</td>\n      <td>female</td>\n      <td>24</td>\n      <td>0</td>\n      <td>0</td>\n      <td>PC 17477</td>\n      <td>69.3</td>\n      <td>B35</td>\n      <td>C</td>\n      <td>9</td>\n      <td>?</td>\n      <td>Paris, France</td>\n    </tr>\n    <tr>\n      <th>13</th>\n      <td>1</td>\n      <td>1</td>\n      <td>Barber, Miss. Ellen 'Nellie'</td>\n      <td>female</td>\n      <td>26</td>\n      <td>0</td>\n      <td>0</td>\n      <td>19877</td>\n      <td>78.85</td>\n      <td>?</td>\n      <td>S</td>\n      <td>6</td>\n      <td>?</td>\n      <td>?</td>\n    </tr>\n    <tr>\n      <th>14</th>\n      <td>1</td>\n      <td>1</td>\n      <td>Barkworth, Mr. Algernon Henry Wilson</td>\n      <td>male</td>\n      <td>80</td>\n      <td>0</td>\n      <td>0</td>\n      <td>27042</td>\n      <td>30</td>\n      <td>A23</td>\n      <td>S</td>\n      <td>B</td>\n      <td>?</td>\n      <td>Hessle, Yorks</td>\n    </tr>\n    <tr>\n      <th>15</th>\n      <td>1</td>\n      <td>0</td>\n      <td>Baumann, Mr. John D</td>\n      <td>male</td>\n      <td>?</td>\n      <td>0</td>\n      <td>0</td>\n      <td>PC 17318</td>\n      <td>25.925</td>\n      <td>?</td>\n      <td>S</td>\n      <td>?</td>\n      <td>?</td>\n      <td>New York, NY</td>\n    </tr>\n    <tr>\n      <th>16</th>\n      <td>1</td>\n      <td>0</td>\n      <td>Baxter, Mr. Quigg Edmond</td>\n      <td>male</td>\n      <td>24</td>\n      <td>0</td>\n      <td>1</td>\n      <td>PC 17558</td>\n      <td>247.5208</td>\n      <td>B58 B60</td>\n      <td>C</td>\n      <td>?</td>\n      <td>?</td>\n      <td>Montreal, PQ</td>\n    </tr>\n    <tr>\n      <th>17</th>\n      <td>1</td>\n      <td>1</td>\n      <td>Baxter, Mrs. James (Helene DeLaudeniere Chaput)</td>\n      <td>female</td>\n      <td>50</td>\n      <td>0</td>\n      <td>1</td>\n      <td>PC 17558</td>\n      <td>247.5208</td>\n      <td>B58 B60</td>\n      <td>C</td>\n      <td>6</td>\n      <td>?</td>\n      <td>Montreal, PQ</td>\n    </tr>\n    <tr>\n      <th>18</th>\n      <td>1</td>\n      <td>1</td>\n      <td>Bazzani, Miss. Albina</td>\n      <td>female</td>\n      <td>32</td>\n      <td>0</td>\n      <td>0</td>\n      <td>11813</td>\n      <td>76.2917</td>\n      <td>D15</td>\n      <td>C</td>\n      <td>8</td>\n      <td>?</td>\n      <td>?</td>\n    </tr>\n    <tr>\n      <th>19</th>\n      <td>1</td>\n      <td>0</td>\n      <td>Beattie, Mr. Thomson</td>\n      <td>male</td>\n      <td>36</td>\n      <td>0</td>\n      <td>0</td>\n      <td>13050</td>\n      <td>75.2417</td>\n      <td>C6</td>\n      <td>C</td>\n      <td>A</td>\n      <td>?</td>\n      <td>Winnipeg, MN</td>\n    </tr>\n  </tbody>\n</table>\n</div>"
     },
     "execution_count": 89,
     "metadata": {},
     "output_type": "execute_result"
    }
   ],
   "source": [
    "data.head(20)"
   ],
   "metadata": {
    "collapsed": false
   }
  },
  {
   "cell_type": "markdown",
   "source": [
    "Zaimportowany zestaw danych dotyczy pasażerów uczestniczących w rejsie Titanica. Na podstawie wstępnej inspekcji, można zaobserwować, że zbiór danych składa się z 14 zmiennych (pclass, survived, name, sex, age, sibsp, parch, ticket, fare, cabin, embarked, boat, body oraz home.dest). Po wyświetleniu pierwszych 20 wierszy, można zaobserwować, że w danych występuje wiele brakujących wartości (oznaczonych znakiem zapytania), w szczególności dla atrybutów boat i body. Dodatkowo dane mogą nie być ujednolicone np. różne zaokrąglenia w przypadku zmiennej age."
   ],
   "metadata": {
    "collapsed": false
   }
  },
  {
   "cell_type": "markdown",
   "source": [
    "### 3. Sprawdź ile jest wartości brakujących używając funkcji pd.isnull().sum() oraz pd.isnull().mean. W sprawozdaniu zapisz swoje obserwacje i skomentuj % brakujących danych w zależności od danej zmiennej."
   ],
   "metadata": {
    "collapsed": false
   }
  },
  {
   "cell_type": "markdown",
   "source": [
    "Przed użyciem powyższych funkcji należało zmodyfikować zbiór danych, poprzez zastąpienie wartości '?' wartością NaN, rozumianą przez interpreter jako reprezentacja braku danych. W tym celu wykorzystano funkcję replace()."
   ],
   "metadata": {
    "collapsed": false
   }
  },
  {
   "cell_type": "code",
   "execution_count": 90,
   "outputs": [
    {
     "data": {
      "text/plain": "pclass          0\nsurvived        0\nname            0\nsex             0\nage           263\nsibsp           0\nparch           0\nticket          0\nfare            1\ncabin        1014\nembarked        2\nboat          823\nbody         1188\nhome.dest     564\ndtype: int64"
     },
     "execution_count": 90,
     "metadata": {},
     "output_type": "execute_result"
    }
   ],
   "source": [
    "data = data.replace('?', np.nan)\n",
    "pd.isnull(data).sum()"
   ],
   "metadata": {
    "collapsed": false
   }
  },
  {
   "cell_type": "code",
   "execution_count": 91,
   "outputs": [
    {
     "data": {
      "text/plain": "pclass       0.000000\nsurvived     0.000000\nname         0.000000\nsex          0.000000\nage          0.200917\nsibsp        0.000000\nparch        0.000000\nticket       0.000000\nfare         0.000764\ncabin        0.774637\nembarked     0.001528\nboat         0.628724\nbody         0.907563\nhome.dest    0.430863\ndtype: float64"
     },
     "execution_count": 91,
     "metadata": {},
     "output_type": "execute_result"
    }
   ],
   "source": [
    "pd.isnull(data).mean()"
   ],
   "metadata": {
    "collapsed": false
   }
  },
  {
   "cell_type": "markdown",
   "source": [
    "Wykonanie powyższych operacji pozwoliło stwierdzić, że braki danych występują w przypadku zmiennych age, fare, cabin, embarked, boat, body, home.dest, przy czym najwięcej brakujących wartości zaobserwowano dla atrybutu body, co stanowiło aż około 90.8% wszystkich obserwacji. Wysokim odsetkiem brakujących danych odznaczały się również zmienne cabin i boat (powyżej 60.0%). Niepokojąco dużo brakujących wartości wystąpiło również w przypadku zmiennej home.dest (43.1%) i age (20.1%). Tylko 2 brakujące wartości otrzymano dla atrybutu embarked (0.2%) i jedną dla fare (0.1%)."
   ],
   "metadata": {
    "collapsed": false
   }
  },
  {
   "cell_type": "markdown",
   "source": [
    "### 4. Zastanów się z jakim rodzajem braków danych masz do czynienia – całkowicie przypadkowe (MCAR), przypadkowe (MAR) czy nie przypadkowe (MNAR). Swój wybór uzasadnij. Pamiętaj, że są to dane tragicznego rejsu, w którym spora część pasażerów nie przeżyła. Skomentuj wynik."
   ],
   "metadata": {
    "collapsed": false
   }
  },
  {
   "cell_type": "markdown",
   "source": [
    "Utworzenie binarnej zmiennej dla brakujących wartości w kolumnie age:"
   ],
   "metadata": {
    "collapsed": false
   }
  },
  {
   "cell_type": "code",
   "execution_count": 92,
   "outputs": [],
   "source": [
    "data['ageNull'] =  np.where(data['age'].isnull(), 1, 0)"
   ],
   "metadata": {
    "collapsed": false
   }
  },
  {
   "cell_type": "markdown",
   "source": [
    "Zmapowanie wybranej kolumny ze zmienną survived:"
   ],
   "metadata": {
    "collapsed": false
   }
  },
  {
   "cell_type": "code",
   "execution_count": 93,
   "outputs": [
    {
     "data": {
      "text/plain": "survived\n0    0.234858\n1    0.146000\nName: ageNull, dtype: float64"
     },
     "execution_count": 93,
     "metadata": {},
     "output_type": "execute_result"
    }
   ],
   "source": [
    "data.groupby(['survived'])['ageNull'].mean()"
   ],
   "metadata": {
    "collapsed": false
   }
  },
  {
   "cell_type": "markdown",
   "source": [
    "Zapisanie powyższych dwóch linijek kodu za pomocą jednej:"
   ],
   "metadata": {
    "collapsed": false
   }
  },
  {
   "cell_type": "code",
   "execution_count": 94,
   "outputs": [
    {
     "data": {
      "text/plain": "              fare  embarked       age     cabin      boat      body  \\\nsurvived                                                               \n0         0.001236     0.000  0.234858  0.873918  0.988875  0.850433   \n1         0.000000     0.004  0.146000  0.614000  0.046000  1.000000   \n\n          home.dest  \nsurvived             \n0          0.508035  \n1          0.306000  ",
      "text/html": "<div>\n<style scoped>\n    .dataframe tbody tr th:only-of-type {\n        vertical-align: middle;\n    }\n\n    .dataframe tbody tr th {\n        vertical-align: top;\n    }\n\n    .dataframe thead th {\n        text-align: right;\n    }\n</style>\n<table border=\"1\" class=\"dataframe\">\n  <thead>\n    <tr style=\"text-align: right;\">\n      <th></th>\n      <th>fare</th>\n      <th>embarked</th>\n      <th>age</th>\n      <th>cabin</th>\n      <th>boat</th>\n      <th>body</th>\n      <th>home.dest</th>\n    </tr>\n    <tr>\n      <th>survived</th>\n      <th></th>\n      <th></th>\n      <th></th>\n      <th></th>\n      <th></th>\n      <th></th>\n      <th></th>\n    </tr>\n  </thead>\n  <tbody>\n    <tr>\n      <th>0</th>\n      <td>0.001236</td>\n      <td>0.000</td>\n      <td>0.234858</td>\n      <td>0.873918</td>\n      <td>0.988875</td>\n      <td>0.850433</td>\n      <td>0.508035</td>\n    </tr>\n    <tr>\n      <th>1</th>\n      <td>0.000000</td>\n      <td>0.004</td>\n      <td>0.146000</td>\n      <td>0.614000</td>\n      <td>0.046000</td>\n      <td>1.000000</td>\n      <td>0.306000</td>\n    </tr>\n  </tbody>\n</table>\n</div>"
     },
     "execution_count": 94,
     "metadata": {},
     "output_type": "execute_result"
    }
   ],
   "source": [
    "data[['fare','embarked','age','cabin','boat','body','home.dest']].isnull().groupby(data['survived']).mean()"
   ],
   "metadata": {
    "collapsed": false
   }
  },
  {
   "cell_type": "markdown",
   "source": [
    "Procentowy udział brakujących wartości dla poszczególnych zmiennych, w zależności czy pasażer Titanica przeżył czy zginął, świadczy o nieprzypadkowych brakach danych (MNAR).\n",
    "\n",
    "* Nieznaczy odsetek NaN w przypadku zmiennej fare (cena biletu) dla osób, które zginęły, może być wynikiem niedopatrzenia lub podróżnika na gapę.\n",
    "\n",
    "* Trudno wskazać przyczynę nielicznych braków danych dla zmiennej embarked (port gdzie wsiadł pasażer). Możliwe, że w jakiś sposób zostały po prostu utracone na przestrzeni lat.\n",
    "\n",
    "* W przypadku zmiennej age (wiek) występuje dużo większy odsetek brakujących danych w obrębie pasażerów, którzy nie przeżyli. Może się to wiązać z trudnością ustalenia dokładnego wieku zmarłych.\n",
    "\n",
    "* Tak duży odsetek brakujących danych, zarówno w przypadku przeżycia rejsu jak i śmierci pasażera dla zmiennej cabin (numer kabiny), może być związany z nie przykładaniem większej uwagi do tego, jaki był dokładny numer kabiny, szybkiego zapomnienia zbędnych informacji, braku możliwości ustalenia w przypadku zmarłych.\n",
    "\n",
    "* Prawie 99.0% brakujących wartości w przypadku śmierci pasażera dla zmiennej boat (numer lódki którą się ewakuował), może świadczyć o tym, że prawie wszyscy pasażerowie, którzy zginęli, nie mieli szansy ewakuować się przy pomocy szalupy. Nieliczni dostali szansę, jednak również zginęli. Niewielki % brakujących wartości w przypadku ocalałych, może być wynikiem chaosu, nie zdążeniem zebrania takiej informacji.\n",
    "\n",
    "* W przypadku zmiennej body (numer identyfikacyjny znalezionego ciała) 85.0%-owy udział brakujących wartości dla przypadku, gdy pasażer nie przeżył może świadczyć o tym, że ciała nie udało się odnaleźć (zostało przeniesione na dalsze odległości, uwięzione we wraku statku itp.), część jednak zostało zidentyfikowanych. Nie było potrzeby wprowadzać danych dla pasażerów, którzy przeżyli.\n",
    "\n",
    "* Podobnie jak w przypadku zmiennej age, dla zmiennej home.dest występuje dużo większy odsetek brakujących danych w obrębie pasażerów, którzy nie przeżyli rejsu. Może być to spowodowane brakiem chęci podawania dokładnego celu swojej podróży."
   ],
   "metadata": {
    "collapsed": false
   }
  },
  {
   "cell_type": "markdown",
   "source": [
    "### 5. Po powyższej analizie odpowiedz na pytanie w jaki sposób należy postąpić z brakującymi wartościami."
   ],
   "metadata": {
    "collapsed": false
   }
  },
  {
   "cell_type": "code",
   "execution_count": 95,
   "outputs": [
    {
     "name": "stdout",
     "output_type": "stream",
     "text": [
      "3855\n"
     ]
    }
   ],
   "source": [
    "null_sum = data.isnull().sum().sum()\n",
    "print(null_sum)"
   ],
   "metadata": {
    "collapsed": false
   }
  },
  {
   "cell_type": "markdown",
   "source": [
    "W przypadku zmiennej fare oraz embarked, można usunąć brakujące wartości, gdyż stanowią mniej niż 5% zbioru danych. Dla pozostałych zmiennych, w których zaobserwowano braki danych, ich udział wynosi powyżej 5% całości zbioru. W związku z tym brakujące wartości są istotne i nie można ich usunąć. W przypadku gdy rozkład byłby rozkładem normalnym, braki danych mogłyby zostać zastąpiąne wartością średnią lub medianą. W pozostałych przypadkach  można utworzyć nową kategorię \"missing\"."
   ],
   "metadata": {
    "collapsed": false
   }
  }
 ],
 "metadata": {
  "kernelspec": {
   "name": "ml_moje",
   "language": "python",
   "display_name": "Python py36"
  },
  "language_info": {
   "codemirror_mode": {
    "name": "ipython",
    "version": 2
   },
   "file_extension": ".py",
   "mimetype": "text/x-python",
   "name": "python",
   "nbconvert_exporter": "python",
   "pygments_lexer": "ipython2",
   "version": "2.7.6"
  }
 },
 "nbformat": 4,
 "nbformat_minor": 0
}
