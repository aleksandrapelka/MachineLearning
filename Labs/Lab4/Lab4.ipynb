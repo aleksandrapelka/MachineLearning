{
 "nbformat": 4,
 "nbformat_minor": 0,
 "metadata": {
  "colab": {
   "provenance": [],
   "toc_visible": true
  },
  "kernelspec": {
   "name": "ml_moje",
   "language": "python",
   "display_name": "Python py36"
  },
  "language_info": {
   "name": "python"
  }
 },
 "cells": [
  {
   "cell_type": "markdown",
   "source": [
    "# **Feature engineering - liczebność cech**"
   ],
   "metadata": {
    "id": "NTHn2r8iDjRz"
   }
  },
  {
   "cell_type": "code",
   "execution_count": 9,
   "metadata": {
    "id": "4HH1Fk0esfXj"
   },
   "outputs": [],
   "source": [
    "import pandas as pd\n",
    "import numpy as np"
   ]
  },
  {
   "cell_type": "code",
   "source": [
    "data = pd.read_csv('C:/Users/48692/Desktop/ML/Lab3/data.csv')"
   ],
   "metadata": {
    "id": "3UbxCsRntYRO"
   },
   "execution_count": 10,
   "outputs": []
  },
  {
   "cell_type": "markdown",
   "source": [
    "### 1. Sprawdź liczebność poszczególnych etykiet dla danych zmiennych jakościowych"
   ],
   "metadata": {
    "id": "yh0D0RlMuFY3"
   }
  },
  {
   "cell_type": "code",
   "source": [
    "var_names = list(data.columns[0:2]) + list(data.columns[3:])\n",
    "for var_name in var_names:\n",
    "  print('Liczba etykiet zmiennej {}: {}'.format(var_name, len(data[var_name].unique())))"
   ],
   "metadata": {
    "colab": {
     "base_uri": "https://localhost:8080/"
    },
    "id": "8Fu6kqLMEJXc",
    "outputId": "ab41f029-80f6-4946-8131-858f7a678bb0"
   },
   "execution_count": 11,
   "outputs": [
    {
     "name": "stdout",
     "output_type": "stream",
     "text": [
      "Liczba etykiet zmiennej pclass: 3\n",
      "Liczba etykiet zmiennej survived: 2\n",
      "Liczba etykiet zmiennej sex: 2\n",
      "Liczba etykiet zmiennej age: 99\n",
      "Liczba etykiet zmiennej sibsp: 7\n",
      "Liczba etykiet zmiennej parch: 8\n",
      "Liczba etykiet zmiennej ticket: 929\n",
      "Liczba etykiet zmiennej fare: 282\n",
      "Liczba etykiet zmiennej cabin: 187\n",
      "Liczba etykiet zmiennej embarked: 4\n",
      "Liczba etykiet zmiennej boat: 28\n",
      "Liczba etykiet zmiennej body: 122\n",
      "Liczba etykiet zmiennej home.dest: 370\n"
     ]
    }
   ]
  },
  {
   "cell_type": "markdown",
   "source": [
    "### 2. Wyświetl z użyciem funkcji print liczbę wszystkich pasażerów. Wykorzystaj podobny sposób jak w punkcie 1. "
   ],
   "metadata": {
    "id": "egl2be-OvtI1"
   }
  },
  {
   "cell_type": "code",
   "source": [
    "print('Liczba wszystkich pasażerów: {}'.format(len(data)))"
   ],
   "metadata": {
    "colab": {
     "base_uri": "https://localhost:8080/"
    },
    "id": "QcIYKJIJvymq",
    "outputId": "b30be162-1413-4870-cc17-3114672c8380"
   },
   "execution_count": 12,
   "outputs": [
    {
     "name": "stdout",
     "output_type": "stream",
     "text": [
      "Liczba wszystkich pasażerów: 1309\n"
     ]
    }
   ]
  },
  {
   "cell_type": "markdown",
   "source": [
    "### 3. Skomentuj wyniki otrzymane w punkcie 1 i 2. Podziel zmienne ze względu na dużą i małą moc zbioru (kardynalność). "
   ],
   "metadata": {
    "id": "l4PSa-t5wJ8Y"
   }
  },
  {
   "cell_type": "markdown",
   "source": [
    "Wyniki otrzymane dla poszczególnych zmiennych są zróżnicowane ze względu na kardynalność - część zmiennych ma bardzo dużo etykiet, a inne bardzo mało. Najwięcej etykiet zaobserwowano dla zmiennej ticket, bo aż 929, przy czym liczba wszystkich pasażerów wyniosła 1309.\n",
    "\n",
    "**Podział zmiennych ze względu na moc zbioru:**\n",
    "* mała moc zbioru: *pclass, survived, sex, sibsp, parch, embarked, boat*\n",
    "* duża moc zbioru: *age, ticket, fare, cabin, body, home.dest*\n"
   ],
   "metadata": {
    "id": "NpXDQ2OWwXjA"
   }
  },
  {
   "cell_type": "markdown",
   "source": [
    "### 4. Sprawdź, ile unikalnych etykiet ma zmienna mówiąca o kabinie danego pasażera. Użyj takiej funkcji, która zwraca wynik w postaci NumPy array."
   ],
   "metadata": {
    "id": "ljiLnd_fyg3D"
   }
  },
  {
   "cell_type": "code",
   "source": [
    "print('Liczba unikalnych etykiet dla zmiennej cabin: {}'.format(len((data.cabin.unique()))))\n",
    "print('Tablica unikalnych etykiet dla zmiennej cabin:\\n {}'.format(np.unique(data.cabin)))"
   ],
   "metadata": {
    "colab": {
     "base_uri": "https://localhost:8080/"
    },
    "id": "4iyMF-L8ycli",
    "outputId": "136baffa-2b24-4b31-884e-2efc0b532547"
   },
   "execution_count": 13,
   "outputs": [
    {
     "name": "stdout",
     "output_type": "stream",
     "text": [
      "Liczba unikalnych etykiet dla zmiennej cabin: 187\n",
      "Tablica unikalnych etykiet dla zmiennej cabin:\n",
      " ['?' 'A10' 'A11' 'A14' 'A16' 'A18' 'A19' 'A20' 'A21' 'A23' 'A24' 'A26'\n",
      " 'A29' 'A31' 'A32' 'A34' 'A36' 'A5' 'A6' 'A7' 'A9' 'B10' 'B101' 'B102'\n",
      " 'B11' 'B18' 'B19' 'B20' 'B22' 'B24' 'B26' 'B28' 'B3' 'B30' 'B35' 'B36'\n",
      " 'B37' 'B38' 'B39' 'B4' 'B41' 'B42' 'B45' 'B49' 'B5' 'B50' 'B51 B53 B55'\n",
      " 'B52 B54 B56' 'B57 B59 B63 B66' 'B58 B60' 'B61' 'B69' 'B71' 'B73' 'B77'\n",
      " 'B78' 'B79' 'B80' 'B82 B84' 'B86' 'B94' 'B96 B98' 'C101' 'C103' 'C104'\n",
      " 'C105' 'C106' 'C110' 'C111' 'C116' 'C118' 'C123' 'C124' 'C125' 'C126'\n",
      " 'C128' 'C130' 'C132' 'C148' 'C2' 'C22 C26' 'C23 C25 C27' 'C28' 'C30'\n",
      " 'C31' 'C32' 'C39' 'C45' 'C46' 'C47' 'C49' 'C50' 'C51' 'C52' 'C53' 'C54'\n",
      " 'C55 C57' 'C6' 'C62 C64' 'C65' 'C68' 'C7' 'C70' 'C78' 'C80' 'C82' 'C83'\n",
      " 'C85' 'C86' 'C87' 'C89' 'C90' 'C91' 'C92' 'C93' 'C95' 'C97' 'C99' 'D'\n",
      " 'D10 D12' 'D11' 'D15' 'D17' 'D19' 'D20' 'D21' 'D22' 'D26' 'D28' 'D30'\n",
      " 'D33' 'D34' 'D35' 'D36' 'D37' 'D38' 'D40' 'D43' 'D45' 'D46' 'D47' 'D48'\n",
      " 'D49' 'D50' 'D56' 'D6' 'D7' 'D9' 'E10' 'E101' 'E12' 'E121' 'E17' 'E24'\n",
      " 'E25' 'E31' 'E33' 'E34' 'E36' 'E38' 'E39 E41' 'E40' 'E44' 'E45' 'E46'\n",
      " 'E49' 'E50' 'E52' 'E58' 'E60' 'E63' 'E67' 'E68' 'E77' 'E8' 'F' 'F E46'\n",
      " 'F E57' 'F E69' 'F G63' 'F G73' 'F2' 'F33' 'F38' 'F4' 'G6' 'T']\n"
     ]
    }
   ]
  },
  {
   "cell_type": "markdown",
   "source": [
    "### 5. Zredukuj liczbę cech dla zmiennej opisującej kabiny poprzez zastąpienie obecnych etykiet w formacie PP11 do etykiet zawierających tylko pierwszą literę. Użyj astype(str).str[pozycja]. Nową zmienną nazwij CabinReduced. Wyświetl pierwsze 25 wierszy zbioru danych dla kolumn Cabin i CabinReduced.\n"
   ],
   "metadata": {
    "id": "jvyrNWvM0isg"
   }
  },
  {
   "cell_type": "code",
   "source": [
    "data['CabinReduced'] = data.cabin.astype(str).str[0]\n",
    "print(data[['cabin', 'CabinReduced']].head(25))"
   ],
   "metadata": {
    "colab": {
     "base_uri": "https://localhost:8080/"
    },
    "id": "U9N3smVz0hlF",
    "outputId": "1b945aaa-66a3-4b91-a8dd-af096b6ef2c6"
   },
   "execution_count": 14,
   "outputs": [
    {
     "name": "stdout",
     "output_type": "stream",
     "text": [
      "      cabin CabinReduced\n",
      "0        B5            B\n",
      "1   C22 C26            C\n",
      "2   C22 C26            C\n",
      "3   C22 C26            C\n",
      "4   C22 C26            C\n",
      "5       E12            E\n",
      "6        D7            D\n",
      "7       A36            A\n",
      "8      C101            C\n",
      "9         ?            ?\n",
      "10  C62 C64            C\n",
      "11  C62 C64            C\n",
      "12      B35            B\n",
      "13        ?            ?\n",
      "14      A23            A\n",
      "15        ?            ?\n",
      "16  B58 B60            B\n",
      "17  B58 B60            B\n",
      "18      D15            D\n",
      "19       C6            C\n",
      "20      D35            D\n",
      "21      D35            D\n",
      "22     C148            C\n",
      "23        ?            ?\n",
      "24      C97            C\n"
     ]
    }
   ]
  },
  {
   "cell_type": "markdown",
   "source": [
    "### 6. Wyświetl (jak w pkt 1) liczbę etykiet dla zmiennych z punkt 5. O ile procent zredukowano kardynalność zbioru zmiennej opisującej kabiny?"
   ],
   "metadata": {
    "id": "L9ebkFOk2bOD"
   }
  },
  {
   "cell_type": "code",
   "source": [
    "print('Liczba etykiet zmiennej cabin: {}\\nLiczba etykiet zmiennej CabinReduced: {}'.format(len(data.cabin.unique()), len(data.CabinReduced.unique())))"
   ],
   "metadata": {
    "colab": {
     "base_uri": "https://localhost:8080/"
    },
    "id": "dTWZm-wV2jgC",
    "outputId": "b0a751c1-72b9-422f-a7df-8b293ffd3d5d"
   },
   "execution_count": 15,
   "outputs": [
    {
     "name": "stdout",
     "output_type": "stream",
     "text": [
      "Liczba etykiet zmiennej cabin: 187\n",
      "Liczba etykiet zmiennej CabinReduced: 9\n"
     ]
    }
   ]
  },
  {
   "cell_type": "code",
   "source": [
    "print('Kardynalność zbioru zmiennej opisującej kabiny zredukowano o: {}%'.format(round(100-(9/187*100), 2)))"
   ],
   "metadata": {
    "colab": {
     "base_uri": "https://localhost:8080/"
    },
    "id": "KgqY_Djs2-mt",
    "outputId": "dc3aee8d-694d-4235-e910-ae07c7e20ae5"
   },
   "execution_count": 16,
   "outputs": [
    {
     "name": "stdout",
     "output_type": "stream",
     "text": [
      "Kardynalność zbioru zmiennej opisującej kabiny zredukowano o: 95.19%\n"
     ]
    }
   ]
  },
  {
   "cell_type": "markdown",
   "source": [
    "### 7. Uzasadnij, dlaczego dokonujesz redukcji akurat tej zmiennej. Jak to wpływa na przyszłe analizy. Czy powoduje jakieś negatywne skutki?"
   ],
   "metadata": {
    "id": "ipDN-u_-4Q3U"
   }
  },
  {
   "cell_type": "markdown",
   "source": [
    "Redukcja została dokonana dla zmiennej *cabin* ze względu na dużą moc zbioru (187 etykiet). Generalizacja tej zmiennej jest wskazana, gdyż można zredukować etykiety w ten sposób, aby określały jedynie przynależność do konkretnej strefy/typu kabiny, dzięki czemu przyszły model będzie bardziej uniwersalny, a wciąż będzie dobrze sobie radził. Do negatywnych skutków można zaliczyć utratę informacji na temat konktretnego pokoju przydzielonego dla danego pasażera, zatem nie będzie możliwości stworzenia modelu, który prawidłowo przewidywałby, w którym pokoju podróżowała wybrana osoba."
   ],
   "metadata": {
    "id": "yvnFtikBW3vP"
   }
  }
 ]
}
